{
  "nbformat": 4,
  "nbformat_minor": 0,
  "metadata": {
    "colab": {
      "provenance": []
    },
    "kernelspec": {
      "name": "python3",
      "display_name": "Python 3"
    },
    "language_info": {
      "name": "python"
    }
  },
  "cells": [
    {
      "cell_type": "code",
      "source": [
        "import os,time\n",
        "import numpy as np\n",
        "import pandas as pd\n",
        "import matplotlib.pyplot as plt\n",
        "import seaborn as sns\n",
        "from tqdm import tqdm\n",
        "import random"
      ],
      "metadata": {
        "id": "LLN8Nax5gQcn"
      },
      "execution_count": 7,
      "outputs": []
    },
    {
      "cell_type": "code",
      "source": [
        "file_url = 'https://raw.githubusercontent.com/ashutoshpandey5891/NLP/master/spell_correction/data/wikipedia.txt'\n",
        "\n",
        "import requests\n",
        "file_pth = 'wikipedia.txt'\n",
        "with open(file_pth,'w') as f:\n",
        "  data = requests.get(file_url).content.decode()\n",
        "  f.write(data)"
      ],
      "metadata": {
        "id": "gqDsibFLgHiu"
      },
      "execution_count": 10,
      "outputs": []
    },
    {
      "cell_type": "code",
      "source": [
        "data = []\n",
        "with open(file_pth) as f:\n",
        "    for line in f.readlines():\n",
        "        cor,incor = line.strip().split(':')\n",
        "        for c in cor.strip().split():\n",
        "            for inc in incor.strip().split():\n",
        "                data.append((inc,c))\n",
        "print(len(data))\n",
        "print(data[:5])"
      ],
      "metadata": {
        "colab": {
          "base_uri": "https://localhost:8080/"
        },
        "id": "YUcq4-BLgb7f",
        "outputId": "4d5dec3a-58d2-475d-854c-cff48cc508f1"
      },
      "execution_count": 11,
      "outputs": [
        {
          "output_type": "stream",
          "name": "stdout",
          "text": [
            "2455\n",
            "[('Apenines', 'Apennines'), ('Appenines', 'Apennines'), ('Athenean', 'Athenian'), ('Atheneans', 'Athenians'), ('Bernouilli', 'Bernoulli')]\n"
          ]
        }
      ]
    },
    {
      "cell_type": "code",
      "source": [
        "##### utils\n",
        "\n",
        "def check_accuracy(correct_func,name):\n",
        "    start_time = time.time()\n",
        "    print('Testing Accuracy for : {}'.format(name))\n",
        "    cor_count = 0\n",
        "    tot_count = len(data)\n",
        "    incor_data = []\n",
        "    for inc,c in tqdm(data):\n",
        "        corrected = correct_func(inc)\n",
        "        if corrected == c:\n",
        "            cor_count += 1\n",
        "        else:\n",
        "            incor_data.append((inc,c,corrected))\n",
        "    print('Model Accuracy : {:.4f}'.format(cor_count/tot_count))\n",
        "    print('Sample Incorrections\\nIncorrect:Correct:Corrected')\n",
        "    for i in range(10):\n",
        "        idx = random.choice(range(len(incor_data)))\n",
        "        print('{} : {} : {}'.format(incor_data[idx][0],incor_data[idx][1],incor_data[idx][2]))\n",
        "    time_taken = time.time()-start_time\n",
        "    return incor_data,cor_count/tot_count,time_taken"
      ],
      "metadata": {
        "id": "LhocK40HorEh"
      },
      "execution_count": 16,
      "outputs": []
    },
    {
      "cell_type": "code",
      "source": [
        "all_results = {}"
      ],
      "metadata": {
        "id": "fCLzsBt6o5FN"
      },
      "execution_count": 17,
      "outputs": []
    },
    {
      "cell_type": "code",
      "execution_count": 13,
      "metadata": {
        "id": "ewYn3uTYcdp5"
      },
      "outputs": [],
      "source": [
        "# !!sudo apt-get install swig3.0"
      ]
    },
    {
      "cell_type": "code",
      "source": [
        "!sudo pip install --upgrade jamspell"
      ],
      "metadata": {
        "colab": {
          "base_uri": "https://localhost:8080/"
        },
        "id": "6hQNGirqd5b9",
        "outputId": "c4787c5e-f08f-49c0-9e31-1472cffec8a6"
      },
      "execution_count": 2,
      "outputs": [
        {
          "output_type": "stream",
          "name": "stdout",
          "text": [
            "Looking in indexes: https://pypi.org/simple, https://us-python.pkg.dev/colab-wheels/public/simple/\n",
            "Requirement already satisfied: jamspell in /root/.local/lib/python3.8/site-packages (0.0.12)\n"
          ]
        }
      ]
    },
    {
      "cell_type": "code",
      "source": [
        "!wget https://github.com/bakwc/JamSpell-models/raw/master/en.tar.gz\n",
        "!tar -xvf en.tar.gz"
      ],
      "metadata": {
        "colab": {
          "base_uri": "https://localhost:8080/"
        },
        "id": "0YW4uYoQd9Cj",
        "outputId": "319a2149-20bf-4481-9be8-4628665abfca"
      },
      "execution_count": 3,
      "outputs": [
        {
          "output_type": "stream",
          "name": "stdout",
          "text": [
            "--2023-02-17 17:49:09--  https://github.com/bakwc/JamSpell-models/raw/master/en.tar.gz\n",
            "Resolving github.com (github.com)... 140.82.121.4\n",
            "Connecting to github.com (github.com)|140.82.121.4|:443... connected.\n",
            "HTTP request sent, awaiting response... 302 Found\n",
            "Location: https://raw.githubusercontent.com/bakwc/JamSpell-models/master/en.tar.gz [following]\n",
            "--2023-02-17 17:49:09--  https://raw.githubusercontent.com/bakwc/JamSpell-models/master/en.tar.gz\n",
            "Resolving raw.githubusercontent.com (raw.githubusercontent.com)... 185.199.108.133, 185.199.109.133, 185.199.110.133, ...\n",
            "Connecting to raw.githubusercontent.com (raw.githubusercontent.com)|185.199.108.133|:443... connected.\n",
            "HTTP request sent, awaiting response... 200 OK\n",
            "Length: 36611828 (35M) [application/octet-stream]\n",
            "Saving to: ‘en.tar.gz.3’\n",
            "\n",
            "\ren.tar.gz.3           0%[                    ]       0  --.-KB/s               \ren.tar.gz.3         100%[===================>]  34.92M  --.-KB/s    in 0.1s    \n",
            "\n",
            "2023-02-17 17:49:09 (264 MB/s) - ‘en.tar.gz.3’ saved [36611828/36611828]\n",
            "\n",
            "en.bin\n"
          ]
        }
      ]
    },
    {
      "cell_type": "code",
      "source": [
        "import jamspell\n",
        "\n",
        "name = 'JamSpell'\n",
        "corrector = jamspell.TSpellCorrector()\n",
        "corrector.LoadLangModel('en.bin')\n",
        "\n",
        "def predict_correct_jamspell(inc):\n",
        "    return corrector.FixFragment(inc)"
      ],
      "metadata": {
        "id": "Y1GvmIX8cqay"
      },
      "execution_count": 14,
      "outputs": []
    },
    {
      "cell_type": "code",
      "source": [
        "name = 'JamSpell'\n",
        "incor_data,acc,tt = check_accuracy(predict_correct_jamspell,name)\n",
        "all_results[name] = {'accuracy':acc,'time_taken':tt}"
      ],
      "metadata": {
        "colab": {
          "base_uri": "https://localhost:8080/"
        },
        "id": "YDNinyJTc-VH",
        "outputId": "be6dd63f-61de-41da-fd83-ca64c7784185"
      },
      "execution_count": 18,
      "outputs": [
        {
          "output_type": "stream",
          "name": "stdout",
          "text": [
            "Testing Accuracy for : JamSpell\n"
          ]
        },
        {
          "output_type": "stream",
          "name": "stderr",
          "text": [
            "100%|██████████| 2455/2455 [00:01<00:00, 1405.57it/s]"
          ]
        },
        {
          "output_type": "stream",
          "name": "stdout",
          "text": [
            "Model Accuracy : 0.6676\n",
            "Sample Incorrections\n",
            "Incorrect:Correct:Corrected\n",
            "irelevent : irrelevant : relevant\n",
            "exerbate : exacerbate : generate\n",
            "afficionado : aficionado : afficionado\n",
            "reccomended : recommended : reccomended\n",
            "imigrant : emigrant : migrant\n",
            "fomr : from : for\n",
            "protruberance : protuberance : protruberance\n",
            "pronounciation : pronunciation : pronounciation\n",
            "quizes : quizzes : quizes\n",
            "Newyorker : New_Yorker : Newyorker\n"
          ]
        },
        {
          "output_type": "stream",
          "name": "stderr",
          "text": [
            "\n"
          ]
        }
      ]
    },
    {
      "cell_type": "code",
      "source": [
        "from textblob import TextBlob\n",
        "\n",
        "def predict_correct_textblob(inc):\n",
        "    return TextBlob(inc).correct()\n",
        "\n",
        "name = 'TextBlob'\n",
        "incor_data,acc,tt = check_accuracy(predict_correct_textblob,name)\n",
        "all_results[name] = {'accuracy':acc,'time_taken':tt}"
      ],
      "metadata": {
        "colab": {
          "base_uri": "https://localhost:8080/"
        },
        "id": "InN59qnlpLtx",
        "outputId": "6b52a18f-0178-4686-e50f-6508a48eebe0"
      },
      "execution_count": 21,
      "outputs": [
        {
          "output_type": "stream",
          "name": "stdout",
          "text": [
            "Testing Accuracy for : TextBlob\n"
          ]
        },
        {
          "output_type": "stream",
          "name": "stderr",
          "text": [
            "100%|██████████| 2455/2455 [04:11<00:00,  9.76it/s]"
          ]
        },
        {
          "output_type": "stream",
          "name": "stdout",
          "text": [
            "Model Accuracy : 0.6167\n",
            "Sample Incorrections\n",
            "Incorrect:Correct:Corrected\n",
            "Palistinian : Palestinian : Palistinian\n",
            "proceding : proceeding : preceding\n",
            "archeaologists : archaeologists : archeaologists\n",
            "forunner : forerunner : founder\n",
            "enviroments : environments : environment\n",
            "clera : sclera : clear\n",
            "erested : erected : rested\n",
            "comited : committed : vomited\n",
            "basicly : basically : easily\n",
            "mear : wear : dear\n"
          ]
        },
        {
          "output_type": "stream",
          "name": "stderr",
          "text": [
            "\n"
          ]
        }
      ]
    },
    {
      "cell_type": "code",
      "source": [
        "!pip install pyspellchecker"
      ],
      "metadata": {
        "colab": {
          "base_uri": "https://localhost:8080/"
        },
        "id": "9WSuSnH_qzZC",
        "outputId": "cdb42887-1449-4c74-9551-2ceace498205"
      },
      "execution_count": 22,
      "outputs": [
        {
          "output_type": "stream",
          "name": "stdout",
          "text": [
            "Looking in indexes: https://pypi.org/simple, https://us-python.pkg.dev/colab-wheels/public/simple/\n",
            "Collecting pyspellchecker\n",
            "  Downloading pyspellchecker-0.7.1-py3-none-any.whl (2.5 MB)\n",
            "\u001b[2K     \u001b[90m━━━━━━━━━━━━━━━━━━━━━━━━━━━━━━━━━━━━━━━━\u001b[0m \u001b[32m2.5/2.5 MB\u001b[0m \u001b[31m39.9 MB/s\u001b[0m eta \u001b[36m0:00:00\u001b[0m\n",
            "\u001b[?25hInstalling collected packages: pyspellchecker\n",
            "Successfully installed pyspellchecker-0.7.1\n"
          ]
        }
      ]
    },
    {
      "cell_type": "code",
      "source": [
        "from spellchecker import SpellChecker\n",
        "\n",
        "sp_checker = SpellChecker('en')\n",
        "\n",
        "def predict_correct_spellchecker(inc):\n",
        "    return sp_checker.correction(inc)\n",
        "\n",
        "name = 'PySpellChecker'\n",
        "incor_data,acc,tt = check_accuracy(predict_correct_spellchecker,name)\n",
        "all_results[name] = {'accuracy':acc,'time_taken':tt}"
      ],
      "metadata": {
        "colab": {
          "base_uri": "https://localhost:8080/"
        },
        "id": "q0tCE4-trbIj",
        "outputId": "d7373a3b-3cd9-4c4c-b411-ad2aa41fbe11"
      },
      "execution_count": 23,
      "outputs": [
        {
          "output_type": "stream",
          "name": "stdout",
          "text": [
            "Testing Accuracy for : PySpellChecker\n"
          ]
        },
        {
          "output_type": "stream",
          "name": "stderr",
          "text": [
            "100%|██████████| 2455/2455 [01:58<00:00, 20.79it/s] "
          ]
        },
        {
          "output_type": "stream",
          "name": "stdout",
          "text": [
            "Model Accuracy : 0.7255\n",
            "Sample Incorrections\n",
            "Incorrect:Correct:Corrected\n",
            "ther : their : the\n",
            "thru : through : thou\n",
            "accension : accession : ascension\n",
            "blaimed : blamed : claimed\n",
            "desparate : disparate : desperate\n",
            "litature : literature : ligature\n",
            "phenomenonly : phenomenally : phenomenon\n",
            "gae : Gael : gave\n",
            "tremelo : tremolo : tremble\n",
            "alusion : illusion : allusion\n"
          ]
        },
        {
          "output_type": "stream",
          "name": "stderr",
          "text": [
            "\n"
          ]
        }
      ]
    },
    {
      "cell_type": "code",
      "source": [
        "!pip install autocorrect"
      ],
      "metadata": {
        "colab": {
          "base_uri": "https://localhost:8080/"
        },
        "id": "6vOHpjnori1o",
        "outputId": "72b8a1bf-2d95-477c-e5fc-890c8f56fb81"
      },
      "execution_count": 24,
      "outputs": [
        {
          "output_type": "stream",
          "name": "stdout",
          "text": [
            "Looking in indexes: https://pypi.org/simple, https://us-python.pkg.dev/colab-wheels/public/simple/\n",
            "Collecting autocorrect\n",
            "  Downloading autocorrect-2.6.1.tar.gz (622 kB)\n",
            "\u001b[2K     \u001b[90m━━━━━━━━━━━━━━━━━━━━━━━━━━━━━━━━━━━━━━\u001b[0m \u001b[32m622.8/622.8 KB\u001b[0m \u001b[31m23.6 MB/s\u001b[0m eta \u001b[36m0:00:00\u001b[0m\n",
            "\u001b[?25h  Preparing metadata (setup.py) ... \u001b[?25l\u001b[?25hdone\n",
            "Building wheels for collected packages: autocorrect\n",
            "  Building wheel for autocorrect (setup.py) ... \u001b[?25l\u001b[?25hdone\n",
            "  Created wheel for autocorrect: filename=autocorrect-2.6.1-py3-none-any.whl size=622381 sha256=e70097e5b818562b22742f9f8ed3e03407e3b65995864d2383e817a22caa559f\n",
            "  Stored in directory: /root/.cache/pip/wheels/72/b8/3b/a90246d13090e85394a8a44b78c8abf577c0766f29d6543c75\n",
            "Successfully built autocorrect\n",
            "Installing collected packages: autocorrect\n",
            "Successfully installed autocorrect-2.6.1\n"
          ]
        }
      ]
    },
    {
      "cell_type": "code",
      "source": [
        "name = 'Autocorrect'\n",
        "\n",
        "from autocorrect import Speller\n",
        "speller = Speller('en')\n",
        "\n",
        "def predict_correct_autocorrect(inc):\n",
        "    return speller(inc)\n",
        "incor_data,acc,tt = check_accuracy(predict_correct_autocorrect,name)\n",
        "all_results[name] = {'accuracy':acc,'time_taken':tt}"
      ],
      "metadata": {
        "colab": {
          "base_uri": "https://localhost:8080/"
        },
        "id": "rNSv48B9rlSv",
        "outputId": "7e8419d3-fcd1-43f6-cba5-b975737e9473"
      },
      "execution_count": 25,
      "outputs": [
        {
          "output_type": "stream",
          "name": "stdout",
          "text": [
            "Testing Accuracy for : Autocorrect\n"
          ]
        },
        {
          "output_type": "stream",
          "name": "stderr",
          "text": [
            "100%|██████████| 2455/2455 [01:18<00:00, 31.31it/s] "
          ]
        },
        {
          "output_type": "stream",
          "name": "stdout",
          "text": [
            "Model Accuracy : 0.7018\n",
            "Sample Incorrections\n",
            "Incorrect:Correct:Corrected\n",
            "officialy : officially : official\n",
            "layed : laid : played\n",
            "dissobediant : disobedient : dissobediant\n",
            "rigeur : rigour : rieur\n",
            "ws : was : ws\n",
            "pased : passed : based\n",
            "liek : like : link\n",
            "demographical : demographic : demographics\n",
            "monolite : monolithic : monoxide\n",
            "discontentment : discontent : discontentment\n"
          ]
        },
        {
          "output_type": "stream",
          "name": "stderr",
          "text": [
            "\n"
          ]
        }
      ]
    },
    {
      "cell_type": "code",
      "source": [
        "all_results"
      ],
      "metadata": {
        "colab": {
          "base_uri": "https://localhost:8080/"
        },
        "id": "jK2TYrFGru5D",
        "outputId": "29021981-e1bd-409c-ca9c-2d194f2e2c7e"
      },
      "execution_count": 26,
      "outputs": [
        {
          "output_type": "execute_result",
          "data": {
            "text/plain": [
              "{'JamSpell': {'accuracy': 0.6676171079429736,\n",
              "  'time_taken': 1.7688825130462646},\n",
              " 'TextBlob': {'accuracy': 0.6167006109979634,\n",
              "  'time_taken': 251.50810289382935},\n",
              " 'PySpellChecker': {'accuracy': 0.7254582484725051,\n",
              "  'time_taken': 118.07814455032349},\n",
              " 'Autocorrect': {'accuracy': 0.7018329938900204,\n",
              "  'time_taken': 78.42727327346802}}"
            ]
          },
          "metadata": {},
          "execution_count": 26
        }
      ]
    },
    {
      "cell_type": "code",
      "source": [
        "pd.DataFrame(all_results)"
      ],
      "metadata": {
        "colab": {
          "base_uri": "https://localhost:8080/",
          "height": 112
        },
        "id": "5k8KkYdUs2TK",
        "outputId": "7f22a816-c4e9-46b1-a2af-117b77ebfb30"
      },
      "execution_count": 27,
      "outputs": [
        {
          "output_type": "execute_result",
          "data": {
            "text/plain": [
              "            JamSpell    TextBlob  PySpellChecker  Autocorrect\n",
              "accuracy    0.667617    0.616701        0.725458     0.701833\n",
              "time_taken  1.768883  251.508103      118.078145    78.427273"
            ],
            "text/html": [
              "\n",
              "  <div id=\"df-2e1e0271-532e-4ee4-81cc-8822102e539a\">\n",
              "    <div class=\"colab-df-container\">\n",
              "      <div>\n",
              "<style scoped>\n",
              "    .dataframe tbody tr th:only-of-type {\n",
              "        vertical-align: middle;\n",
              "    }\n",
              "\n",
              "    .dataframe tbody tr th {\n",
              "        vertical-align: top;\n",
              "    }\n",
              "\n",
              "    .dataframe thead th {\n",
              "        text-align: right;\n",
              "    }\n",
              "</style>\n",
              "<table border=\"1\" class=\"dataframe\">\n",
              "  <thead>\n",
              "    <tr style=\"text-align: right;\">\n",
              "      <th></th>\n",
              "      <th>JamSpell</th>\n",
              "      <th>TextBlob</th>\n",
              "      <th>PySpellChecker</th>\n",
              "      <th>Autocorrect</th>\n",
              "    </tr>\n",
              "  </thead>\n",
              "  <tbody>\n",
              "    <tr>\n",
              "      <th>accuracy</th>\n",
              "      <td>0.667617</td>\n",
              "      <td>0.616701</td>\n",
              "      <td>0.725458</td>\n",
              "      <td>0.701833</td>\n",
              "    </tr>\n",
              "    <tr>\n",
              "      <th>time_taken</th>\n",
              "      <td>1.768883</td>\n",
              "      <td>251.508103</td>\n",
              "      <td>118.078145</td>\n",
              "      <td>78.427273</td>\n",
              "    </tr>\n",
              "  </tbody>\n",
              "</table>\n",
              "</div>\n",
              "      <button class=\"colab-df-convert\" onclick=\"convertToInteractive('df-2e1e0271-532e-4ee4-81cc-8822102e539a')\"\n",
              "              title=\"Convert this dataframe to an interactive table.\"\n",
              "              style=\"display:none;\">\n",
              "        \n",
              "  <svg xmlns=\"http://www.w3.org/2000/svg\" height=\"24px\"viewBox=\"0 0 24 24\"\n",
              "       width=\"24px\">\n",
              "    <path d=\"M0 0h24v24H0V0z\" fill=\"none\"/>\n",
              "    <path d=\"M18.56 5.44l.94 2.06.94-2.06 2.06-.94-2.06-.94-.94-2.06-.94 2.06-2.06.94zm-11 1L8.5 8.5l.94-2.06 2.06-.94-2.06-.94L8.5 2.5l-.94 2.06-2.06.94zm10 10l.94 2.06.94-2.06 2.06-.94-2.06-.94-.94-2.06-.94 2.06-2.06.94z\"/><path d=\"M17.41 7.96l-1.37-1.37c-.4-.4-.92-.59-1.43-.59-.52 0-1.04.2-1.43.59L10.3 9.45l-7.72 7.72c-.78.78-.78 2.05 0 2.83L4 21.41c.39.39.9.59 1.41.59.51 0 1.02-.2 1.41-.59l7.78-7.78 2.81-2.81c.8-.78.8-2.07 0-2.86zM5.41 20L4 18.59l7.72-7.72 1.47 1.35L5.41 20z\"/>\n",
              "  </svg>\n",
              "      </button>\n",
              "      \n",
              "  <style>\n",
              "    .colab-df-container {\n",
              "      display:flex;\n",
              "      flex-wrap:wrap;\n",
              "      gap: 12px;\n",
              "    }\n",
              "\n",
              "    .colab-df-convert {\n",
              "      background-color: #E8F0FE;\n",
              "      border: none;\n",
              "      border-radius: 50%;\n",
              "      cursor: pointer;\n",
              "      display: none;\n",
              "      fill: #1967D2;\n",
              "      height: 32px;\n",
              "      padding: 0 0 0 0;\n",
              "      width: 32px;\n",
              "    }\n",
              "\n",
              "    .colab-df-convert:hover {\n",
              "      background-color: #E2EBFA;\n",
              "      box-shadow: 0px 1px 2px rgba(60, 64, 67, 0.3), 0px 1px 3px 1px rgba(60, 64, 67, 0.15);\n",
              "      fill: #174EA6;\n",
              "    }\n",
              "\n",
              "    [theme=dark] .colab-df-convert {\n",
              "      background-color: #3B4455;\n",
              "      fill: #D2E3FC;\n",
              "    }\n",
              "\n",
              "    [theme=dark] .colab-df-convert:hover {\n",
              "      background-color: #434B5C;\n",
              "      box-shadow: 0px 1px 3px 1px rgba(0, 0, 0, 0.15);\n",
              "      filter: drop-shadow(0px 1px 2px rgba(0, 0, 0, 0.3));\n",
              "      fill: #FFFFFF;\n",
              "    }\n",
              "  </style>\n",
              "\n",
              "      <script>\n",
              "        const buttonEl =\n",
              "          document.querySelector('#df-2e1e0271-532e-4ee4-81cc-8822102e539a button.colab-df-convert');\n",
              "        buttonEl.style.display =\n",
              "          google.colab.kernel.accessAllowed ? 'block' : 'none';\n",
              "\n",
              "        async function convertToInteractive(key) {\n",
              "          const element = document.querySelector('#df-2e1e0271-532e-4ee4-81cc-8822102e539a');\n",
              "          const dataTable =\n",
              "            await google.colab.kernel.invokeFunction('convertToInteractive',\n",
              "                                                     [key], {});\n",
              "          if (!dataTable) return;\n",
              "\n",
              "          const docLinkHtml = 'Like what you see? Visit the ' +\n",
              "            '<a target=\"_blank\" href=https://colab.research.google.com/notebooks/data_table.ipynb>data table notebook</a>'\n",
              "            + ' to learn more about interactive tables.';\n",
              "          element.innerHTML = '';\n",
              "          dataTable['output_type'] = 'display_data';\n",
              "          await google.colab.output.renderOutput(dataTable, element);\n",
              "          const docLink = document.createElement('div');\n",
              "          docLink.innerHTML = docLinkHtml;\n",
              "          element.appendChild(docLink);\n",
              "        }\n",
              "      </script>\n",
              "    </div>\n",
              "  </div>\n",
              "  "
            ]
          },
          "metadata": {},
          "execution_count": 27
        }
      ]
    },
    {
      "cell_type": "code",
      "source": [],
      "metadata": {
        "id": "2EKExnuMs7Tu"
      },
      "execution_count": null,
      "outputs": []
    }
  ]
}