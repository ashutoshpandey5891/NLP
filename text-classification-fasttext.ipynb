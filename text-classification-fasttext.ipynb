{
 "cells": [
  {
   "cell_type": "code",
   "execution_count": 1,
   "metadata": {
    "execution": {
     "iopub.execute_input": "2021-08-02T15:48:25.109748Z",
     "iopub.status.busy": "2021-08-02T15:48:25.109313Z",
     "iopub.status.idle": "2021-08-02T15:48:25.124114Z",
     "shell.execute_reply": "2021-08-02T15:48:25.123149Z",
     "shell.execute_reply.started": "2021-08-02T15:48:25.109650Z"
    }
   },
   "outputs": [],
   "source": [
    "import os\n",
    "import json\n",
    "import re\n",
    "import random\n",
    "import pandas as pd\n",
    "import fasttext\n",
    "from tqdm import trange"
   ]
  },
  {
   "cell_type": "markdown",
   "metadata": {
    "execution": {
     "iopub.execute_input": "2021-08-02T13:34:41.787147Z",
     "iopub.status.busy": "2021-08-02T13:34:41.786791Z",
     "iopub.status.idle": "2021-08-02T13:34:41.803622Z",
     "shell.execute_reply": "2021-08-02T13:34:41.802798Z",
     "shell.execute_reply.started": "2021-08-02T13:34:41.787117Z"
    }
   },
   "source": [
    "#### Data Preparation ####"
   ]
  },
  {
   "cell_type": "markdown",
   "metadata": {},
   "source": [
    "##### data url\n",
    "##### https://www.kaggle.com/yelp-dataset/yelp-dataset"
   ]
  },
  {
   "cell_type": "code",
   "execution_count": 2,
   "metadata": {
    "execution": {
     "iopub.execute_input": "2021-08-02T15:48:25.126227Z",
     "iopub.status.busy": "2021-08-02T15:48:25.125918Z",
     "iopub.status.idle": "2021-08-02T15:48:32.063858Z",
     "shell.execute_reply": "2021-08-02T15:48:32.062699Z",
     "shell.execute_reply.started": "2021-08-02T15:48:25.126184Z"
    }
   },
   "outputs": [
    {
     "name": "stdout",
     "output_type": "stream",
     "text": [
      "8635403 /kaggle/input/yelp-dataset/yelp_academic_dataset_review.json\n"
     ]
    }
   ],
   "source": [
    "## number of reviews in dataset\n",
    "\n",
    "!wc -l yelp_academic_dataset_review.json "
   ]
  },
  {
   "cell_type": "code",
   "execution_count": 3,
   "metadata": {
    "execution": {
     "iopub.execute_input": "2021-08-02T15:48:32.067107Z",
     "iopub.status.busy": "2021-08-02T15:48:32.066769Z",
     "iopub.status.idle": "2021-08-02T15:48:32.076429Z",
     "shell.execute_reply": "2021-08-02T15:48:32.075652Z",
     "shell.execute_reply.started": "2021-08-02T15:48:32.067071Z"
    }
   },
   "outputs": [
    {
     "name": "stdout",
     "output_type": "stream",
     "text": [
      "review_id -> lWC-xP3rd6obsecCYsGZRg\n",
      "user_id -> ak0TdVmGKo4pwqdJSTLwWw\n",
      "business_id -> buF9druCkbuXLX526sGELQ\n",
      "stars -> 4.0\n",
      "useful -> 3\n",
      "funny -> 1\n",
      "cool -> 1\n",
      "text -> Apparently Prides Osteria had a rough summer as evidenced by the almost empty dining room at 6:30 on a Friday night. However new blood in the kitchen seems to have revitalized the food from other customers recent visits. Waitstaff was warm but unobtrusive. By 8 pm or so when we left the bar was full and the dining room was much more lively than it had been. Perhaps Beverly residents prefer a later seating. \n",
      "\n",
      "After reading the mixed reviews of late I was a little tentative over our choice but luckily there was nothing to worry about in the food department. We started with the fried dough, burrata and prosciutto which were all lovely. Then although they don't offer half portions of pasta we each ordered the entree size and split them. We chose the tagliatelle bolognese and a four cheese filled pasta in a creamy sauce with bacon, asparagus and grana frita. Both were very good. We split a secondi which was the special Berkshire pork secreto, which was described as a pork skirt steak with garlic potato purée and romanesco broccoli (incorrectly described as a romanesco sauce). Some tables received bread before the meal but for some reason we did not. \n",
      "\n",
      "Management also seems capable for when the tenants in the apartment above began playing basketball she intervened and also comped the tables a dessert. We ordered the apple dumpling with gelato and it was also quite tasty. Portions are not huge which I particularly like because I prefer to order courses. If you are someone who orders just a meal you may leave hungry depending on you appetite. Dining room was mostly younger crowd while the bar was definitely the over 40 set. Would recommend that the naysayers return to see the improvement although I personally don't know the former glory to be able to compare. Easy access to downtown Salem without the crowds on this month of October.\n",
      "date -> 2014-10-11 03:34:02\n"
     ]
    }
   ],
   "source": [
    "## sample data\n",
    "\n",
    "reviews_path = 'yelp_academic_dataset_review.json'\n",
    "with open(reviews_path) as f:\n",
    "    line = json.loads(f.readline())\n",
    "    for key,val in line.items():\n",
    "        print(f'{key} -> {val}')"
   ]
  },
  {
   "cell_type": "code",
   "execution_count": 4,
   "metadata": {
    "execution": {
     "iopub.execute_input": "2021-08-02T15:48:32.078868Z",
     "iopub.status.busy": "2021-08-02T15:48:32.078174Z",
     "iopub.status.idle": "2021-08-02T15:48:32.091066Z",
     "shell.execute_reply": "2021-08-02T15:48:32.090054Z",
     "shell.execute_reply.started": "2021-08-02T15:48:32.078835Z"
    }
   },
   "outputs": [],
   "source": [
    "def strip_formatting(string):\n",
    "    string = string.replace(\"\\n\",\" \")\n",
    "    string = string.lower()\n",
    "    string = re.sub(r\"([.!?,'/()])\", r\" \\1 \", string)\n",
    "    return string\n",
    "\n",
    "def prepare_dataset(dataset_path,dataset_size = 500000,split_ratio = 0.9):\n",
    "    count = 0\n",
    "    with open(dataset_path) as f,open('train.txt','w') as train_,open('test.txt','w') as test_:\n",
    "        for i in trange(dataset_size):\n",
    "            line = json.loads(f.readline())\n",
    "            rating = line['stars']\n",
    "            text = strip_formatting(line['text'])\n",
    "            \n",
    "            ## convert data to fasttext required format ##\n",
    "            form_line = \"__label__{} {}\\n\".format(rating, text)\n",
    "            \n",
    "            if random.random() <= split_ratio:\n",
    "                train_.write(form_line)\n",
    "            else:\n",
    "                test_.write(form_line)\n",
    "    return os.path.join(os.getcwd(),'train.txt'),os.path.join(os.getcwd(),'test.txt')\n",
    "\n",
    "def display_test(model):\n",
    "    _,p1,r1 = model.test(test_path)\n",
    "    _,p2,r2 = model.test(test_path,k=2)\n",
    "    _,p3,r3 = model.test(test_path,k=3)\n",
    "    return pd.DataFrame({'K' : [1,2,3],'Precision' : [p1,p2,p3],'Recall' : [r1,r2,r3]})"
   ]
  },
  {
   "cell_type": "code",
   "execution_count": 5,
   "metadata": {
    "execution": {
     "iopub.execute_input": "2021-08-02T15:48:32.092951Z",
     "iopub.status.busy": "2021-08-02T15:48:32.092594Z",
     "iopub.status.idle": "2021-08-02T15:49:01.154150Z",
     "shell.execute_reply": "2021-08-02T15:49:01.152265Z",
     "shell.execute_reply.started": "2021-08-02T15:48:32.092922Z"
    }
   },
   "outputs": [
    {
     "name": "stderr",
     "output_type": "stream",
     "text": [
      "100%|██████████| 500000/500000 [00:28<00:00, 17351.86it/s]\n"
     ]
    },
    {
     "name": "stdout",
     "output_type": "stream",
     "text": [
      "/kaggle/working/train.txt /kaggle/working/test.txt\n"
     ]
    }
   ],
   "source": [
    "train_path,test_path = prepare_dataset(reviews_path)\n",
    "print(train_path,test_path)"
   ]
  },
  {
   "cell_type": "code",
   "execution_count": 6,
   "metadata": {
    "execution": {
     "iopub.execute_input": "2021-08-02T15:49:01.156090Z",
     "iopub.status.busy": "2021-08-02T15:49:01.155647Z",
     "iopub.status.idle": "2021-08-02T15:49:02.709465Z",
     "shell.execute_reply": "2021-08-02T15:49:02.707653Z",
     "shell.execute_reply.started": "2021-08-02T15:49:01.156043Z"
    }
   },
   "outputs": [
    {
     "name": "stdout",
     "output_type": "stream",
     "text": [
      "450075\n",
      "49925\n"
     ]
    }
   ],
   "source": [
    "## check number of line in train test set\n",
    "\n",
    "# train set\n",
    "!wc -l /kaggle/working/train.txt | awk -F \" \" '{print $1}'\n",
    "\n",
    "# test set\n",
    "!wc -l /kaggle/working/test.txt | awk -F \" \" '{print $1}'"
   ]
  },
  {
   "cell_type": "code",
   "execution_count": 7,
   "metadata": {
    "execution": {
     "iopub.execute_input": "2021-08-02T15:49:02.712704Z",
     "iopub.status.busy": "2021-08-02T15:49:02.712295Z",
     "iopub.status.idle": "2021-08-02T15:59:05.484328Z",
     "shell.execute_reply": "2021-08-02T15:59:05.483083Z",
     "shell.execute_reply.started": "2021-08-02T15:49:02.712662Z"
    }
   },
   "outputs": [
    {
     "data": {
      "text/html": [
       "<div>\n",
       "<style scoped>\n",
       "    .dataframe tbody tr th:only-of-type {\n",
       "        vertical-align: middle;\n",
       "    }\n",
       "\n",
       "    .dataframe tbody tr th {\n",
       "        vertical-align: top;\n",
       "    }\n",
       "\n",
       "    .dataframe thead th {\n",
       "        text-align: right;\n",
       "    }\n",
       "</style>\n",
       "<table border=\"1\" class=\"dataframe\">\n",
       "  <thead>\n",
       "    <tr style=\"text-align: right;\">\n",
       "      <th></th>\n",
       "      <th>K</th>\n",
       "      <th>Precision</th>\n",
       "      <th>Recall</th>\n",
       "    </tr>\n",
       "  </thead>\n",
       "  <tbody>\n",
       "    <tr>\n",
       "      <th>0</th>\n",
       "      <td>1</td>\n",
       "      <td>0.644086</td>\n",
       "      <td>0.644086</td>\n",
       "    </tr>\n",
       "    <tr>\n",
       "      <th>1</th>\n",
       "      <td>2</td>\n",
       "      <td>0.449534</td>\n",
       "      <td>0.899069</td>\n",
       "    </tr>\n",
       "    <tr>\n",
       "      <th>2</th>\n",
       "      <td>3</td>\n",
       "      <td>0.322891</td>\n",
       "      <td>0.968673</td>\n",
       "    </tr>\n",
       "  </tbody>\n",
       "</table>\n",
       "</div>"
      ],
      "text/plain": [
       "   K  Precision    Recall\n",
       "0  1   0.644086  0.644086\n",
       "1  2   0.449534  0.899069\n",
       "2  3   0.322891  0.968673"
      ]
     },
     "execution_count": 7,
     "metadata": {},
     "output_type": "execute_result"
    }
   ],
   "source": [
    "## Training model with fasttext\n",
    "\n",
    "model_unigram = fasttext.train_supervised(input = train_path,lr = 0.05,epoch = 100)\n",
    "\n",
    "res_unigram = display_test(model_unigram)\n",
    "res_unigram"
   ]
  },
  {
   "cell_type": "code",
   "execution_count": 8,
   "metadata": {
    "execution": {
     "iopub.execute_input": "2021-08-02T15:59:05.486375Z",
     "iopub.status.busy": "2021-08-02T15:59:05.485905Z",
     "iopub.status.idle": "2021-08-02T16:18:09.268238Z",
     "shell.execute_reply": "2021-08-02T16:18:09.267242Z",
     "shell.execute_reply.started": "2021-08-02T15:59:05.486328Z"
    }
   },
   "outputs": [
    {
     "data": {
      "text/html": [
       "<div>\n",
       "<style scoped>\n",
       "    .dataframe tbody tr th:only-of-type {\n",
       "        vertical-align: middle;\n",
       "    }\n",
       "\n",
       "    .dataframe tbody tr th {\n",
       "        vertical-align: top;\n",
       "    }\n",
       "\n",
       "    .dataframe thead th {\n",
       "        text-align: right;\n",
       "    }\n",
       "</style>\n",
       "<table border=\"1\" class=\"dataframe\">\n",
       "  <thead>\n",
       "    <tr style=\"text-align: right;\">\n",
       "      <th></th>\n",
       "      <th>K</th>\n",
       "      <th>Precision</th>\n",
       "      <th>Recall</th>\n",
       "    </tr>\n",
       "  </thead>\n",
       "  <tbody>\n",
       "    <tr>\n",
       "      <th>0</th>\n",
       "      <td>1</td>\n",
       "      <td>0.642143</td>\n",
       "      <td>0.642143</td>\n",
       "    </tr>\n",
       "    <tr>\n",
       "      <th>1</th>\n",
       "      <td>2</td>\n",
       "      <td>0.452188</td>\n",
       "      <td>0.904377</td>\n",
       "    </tr>\n",
       "    <tr>\n",
       "      <th>2</th>\n",
       "      <td>3</td>\n",
       "      <td>0.323639</td>\n",
       "      <td>0.970916</td>\n",
       "    </tr>\n",
       "  </tbody>\n",
       "</table>\n",
       "</div>"
      ],
      "text/plain": [
       "   K  Precision    Recall\n",
       "0  1   0.642143  0.642143\n",
       "1  2   0.452188  0.904377\n",
       "2  3   0.323639  0.970916"
      ]
     },
     "execution_count": 8,
     "metadata": {},
     "output_type": "execute_result"
    }
   ],
   "source": [
    "model_bigram = fasttext.train_supervised(input = train_path,lr = 0.05,epoch = 100,wordNgrams = 2)\n",
    "\n",
    "res_bigram = display_test(model_bigram)\n",
    "res_bigram"
   ]
  },
  {
   "cell_type": "code",
   "execution_count": 9,
   "metadata": {
    "execution": {
     "iopub.execute_input": "2021-08-02T16:18:09.271416Z",
     "iopub.status.busy": "2021-08-02T16:18:09.270803Z",
     "iopub.status.idle": "2021-08-02T16:18:09.276685Z",
     "shell.execute_reply": "2021-08-02T16:18:09.275719Z",
     "shell.execute_reply.started": "2021-08-02T16:18:09.271368Z"
    }
   },
   "outputs": [],
   "source": [
    "sample_revs = ['This place is great! Atmosphere is chill and cool but the staff is also really friendly. They know what they’re doing and what they’re talking about, and you can tell making the customers happy is their main priority. Food is pretty good, some italian classics and some twists, and for their prices it’s 100% worth it.',\n",
    "              'This cozy restaurant has left the best impressions! Hospitable hosts, delicious dishes, beautiful presentation, wide wine list and wonderful dessert. I recommend to everyone! I would like to come back here again and again.',\n",
    "              'this is a terrible restaurant . i hate it so much .']"
   ]
  },
  {
   "cell_type": "code",
   "execution_count": 10,
   "metadata": {
    "execution": {
     "iopub.execute_input": "2021-08-02T16:18:09.278487Z",
     "iopub.status.busy": "2021-08-02T16:18:09.278112Z",
     "iopub.status.idle": "2021-08-02T16:18:09.293233Z",
     "shell.execute_reply": "2021-08-02T16:18:09.292106Z",
     "shell.execute_reply.started": "2021-08-02T16:18:09.278451Z"
    }
   },
   "outputs": [
    {
     "name": "stdout",
     "output_type": "stream",
     "text": [
      "Stars : 5.0 , Confidence : 0.6875\n",
      "Stars : 5.0 , Confidence : 0.9843\n",
      "Stars : 1.0 , Confidence : 0.9948\n"
     ]
    }
   ],
   "source": [
    "for text in sample_revs:\n",
    "    (label,prob) = model_unigram.predict(text)\n",
    "    print('Stars : {} , Confidence : {:.4f}'.format(label[0].replace('__label__',''),prob[0]))"
   ]
  },
  {
   "cell_type": "code",
   "execution_count": null,
   "metadata": {},
   "outputs": [],
   "source": []
  },
  {
   "cell_type": "markdown",
   "metadata": {},
   "source": []
  }
 ],
 "metadata": {
  "kernelspec": {
   "display_name": "Python 3",
   "language": "python",
   "name": "python3"
  },
  "language_info": {
   "codemirror_mode": {
    "name": "ipython",
    "version": 3
   },
   "file_extension": ".py",
   "mimetype": "text/x-python",
   "name": "python",
   "nbconvert_exporter": "python",
   "pygments_lexer": "ipython3",
   "version": "3.6.9"
  }
 },
 "nbformat": 4,
 "nbformat_minor": 4
}
